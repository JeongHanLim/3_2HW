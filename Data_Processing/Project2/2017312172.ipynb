{
 "cells": [
  {
   "cell_type": "markdown",
   "metadata": {
    "collapsed": true,
    "pycharm": {
     "name": "#%% md\n"
    }
   },
   "source": [
    "# 1 Transforming Data (5 pts)\n",
    "The ratings.csv file contains user ratings, one movie per line. See the README file for\n",
    "more information.\n",
    "Transform the data into a user-movie ratings matrix. There should be 610 rows (one\n",
    "for each user) and 9,742 columns (one for each movie). Each cell should contain the users\n",
    "rating for that movie. Note that not every user has rated every movie. Assign a value of\n",
    "0 for any missing values.\n",
    "\n",
    "\n"
   ]
  },
  {
   "cell_type": "code",
   "execution_count": 48,
   "outputs": [],
   "source": [
    "import numpy as np\n",
    "import matplotlib.pyplot as plt\n",
    "from sklearn.decomposition import PCA, TruncatedSVD\n",
    "from sklearn.preprocessing import StandardScaler\n",
    "from sklearn.cluster import KMeans\n",
    "import seaborn as sns\n",
    "import pandas as pd\n"
   ],
   "metadata": {
    "collapsed": false,
    "pycharm": {
     "name": "#%%\n"
    }
   }
  },
  {
   "cell_type": "code",
   "execution_count": 49,
   "outputs": [
    {
     "name": "stdout",
     "output_type": "stream",
     "text": [
      "     1       2       3       4       5       6       7       8       9       \\\n",
      "1       4.0     0.0     4.0     0.0     0.0     4.0     0.0     0.0     0.0   \n",
      "2       0.0     0.0     0.0     0.0     0.0     0.0     0.0     0.0     0.0   \n",
      "3       0.0     0.0     0.0     0.0     0.0     0.0     0.0     0.0     0.0   \n",
      "4       0.0     0.0     0.0     0.0     0.0     0.0     0.0     0.0     0.0   \n",
      "5       4.0     0.0     0.0     0.0     0.0     0.0     0.0     0.0     0.0   \n",
      "..      ...     ...     ...     ...     ...     ...     ...     ...     ...   \n",
      "606     2.5     0.0     0.0     0.0     0.0     0.0     2.5     0.0     0.0   \n",
      "607     4.0     0.0     0.0     0.0     0.0     0.0     0.0     0.0     0.0   \n",
      "608     2.5     2.0     2.0     0.0     0.0     0.0     0.0     0.0     0.0   \n",
      "609     3.0     0.0     0.0     0.0     0.0     0.0     0.0     0.0     0.0   \n",
      "610     5.0     0.0     0.0     0.0     0.0     5.0     0.0     0.0     0.0   \n",
      "\n",
      "     10      ...  193565  193567  193571  193573  193579  193581  193583  \\\n",
      "1       0.0  ...     0.0     0.0     0.0     0.0     0.0     0.0     0.0   \n",
      "2       0.0  ...     0.0     0.0     0.0     0.0     0.0     0.0     0.0   \n",
      "3       0.0  ...     0.0     0.0     0.0     0.0     0.0     0.0     0.0   \n",
      "4       0.0  ...     0.0     0.0     0.0     0.0     0.0     0.0     0.0   \n",
      "5       0.0  ...     0.0     0.0     0.0     0.0     0.0     0.0     0.0   \n",
      "..      ...  ...     ...     ...     ...     ...     ...     ...     ...   \n",
      "606     0.0  ...     0.0     0.0     0.0     0.0     0.0     0.0     0.0   \n",
      "607     0.0  ...     0.0     0.0     0.0     0.0     0.0     0.0     0.0   \n",
      "608     4.0  ...     0.0     0.0     0.0     0.0     0.0     0.0     0.0   \n",
      "609     4.0  ...     0.0     0.0     0.0     0.0     0.0     0.0     0.0   \n",
      "610     0.0  ...     0.0     0.0     0.0     0.0     0.0     0.0     0.0   \n",
      "\n",
      "     193585  193587  193609  \n",
      "1       0.0     0.0     0.0  \n",
      "2       0.0     0.0     0.0  \n",
      "3       0.0     0.0     0.0  \n",
      "4       0.0     0.0     0.0  \n",
      "5       0.0     0.0     0.0  \n",
      "..      ...     ...     ...  \n",
      "606     0.0     0.0     0.0  \n",
      "607     0.0     0.0     0.0  \n",
      "608     0.0     0.0     0.0  \n",
      "609     0.0     0.0     0.0  \n",
      "610     0.0     0.0     0.0  \n",
      "\n",
      "[610 rows x 9742 columns]\n"
     ]
    }
   ],
   "source": [
    "RATINGS_FILE_NAME = \"ratings.csv\"\n",
    "MOVIES_FILE_NAME = \"movies.csv\"\n",
    "ratings_df = pd.read_csv(RATINGS_FILE_NAME)\n",
    "movies_df = pd.read_csv(MOVIES_FILE_NAME)\n",
    "\n",
    "#Checked\n",
    "userid_unique = ratings_df[\"userId\"].unique().tolist()\n",
    "movieid_unique = movies_df[\"movieId\"].unique().tolist()\n",
    "# print(len(userid_unique))\n",
    "# print(len(movieid_unique))\n",
    "\n",
    "new_df = pd.DataFrame(0, columns=movieid_unique, index=userid_unique)\n",
    "for i in range(len(ratings_df)):\n",
    "    new_df.loc[ratings_df.loc[i, \"userId\"],ratings_df.loc[i, \"movieId\"]] = ratings_df.loc[i, \"rating\"]\n",
    "\n",
    "print(new_df)\n",
    "\n",
    "new_df.to_csv(\"userXmovie.csv\")\n"
   ],
   "metadata": {
    "collapsed": false,
    "pycharm": {
     "name": "#%%\n"
    }
   }
  },
  {
   "cell_type": "markdown",
   "source": [
    "## REPORT OF NUMBER 1:\n",
    "\n",
    "In ratings.csv, not all data of movie are presented(9724 of 9742 are picked)\n",
    "So, I got data from movies.csv, so as to make columns in it.\n",
    "\n",
    "\n",
    "\n",
    "***"
   ],
   "metadata": {
    "collapsed": false
   }
  },
  {
   "cell_type": "markdown",
   "source": [
    "# 2 Principle Component Analysis (15 pts)\n",
    "\n",
    "Apply PCA to the reduce the dimensionality of the movies.\n",
    "(a) Transpose the matrix from Q1 so that rows refer to movies and columns refer to users.\n",
    "Mean center the data. Note that you will only use this transformed, mean-centered\n",
    "data for this question.\n",
    "(b) Apply PCA with number of components k = 2 to reduce the dimensionality of the\n",
    "movies.\n",
    "(c) Plot the results and color each movies by its genre. Genres for each movie are listed\n",
    "in movies.csv. Since each movie may have more than one genre, to simplify just use\n",
    "the first genre in the list. Discuss what patterns you see in the visualization.\n",
    "(d) Determine the “intrinsic” dimensionality of the movies, by finding the number of prin\u0002ciple components that are needed to explain 80% of the variance of the data. Discuss\n",
    "how this compares to k = 2 and how this may impact the quality of the visualization\n",
    "above."
   ],
   "metadata": {
    "collapsed": false,
    "pycharm": {
     "name": "#%% md\n"
    }
   }
  },
  {
   "cell_type": "code",
   "execution_count": 50,
   "outputs": [
    {
     "name": "stdout",
     "output_type": "stream",
     "text": [
      "            0    1    2    3    4    5    6    7    8     9    ...    600  \\\n",
      "Unnamed: 0  1.0  2.0  3.0  4.0  5.0  6.0  7.0  8.0  9.0  10.0  ...  601.0   \n",
      "1           4.0  0.0  0.0  0.0  4.0  0.0  4.5  0.0  0.0   0.0  ...    4.0   \n",
      "2           0.0  0.0  0.0  0.0  0.0  4.0  0.0  4.0  0.0   0.0  ...    0.0   \n",
      "3           4.0  0.0  0.0  0.0  0.0  5.0  0.0  0.0  0.0   0.0  ...    0.0   \n",
      "4           0.0  0.0  0.0  0.0  0.0  3.0  0.0  0.0  0.0   0.0  ...    0.0   \n",
      "...         ...  ...  ...  ...  ...  ...  ...  ...  ...   ...  ...    ...   \n",
      "193581      0.0  0.0  0.0  0.0  0.0  0.0  0.0  0.0  0.0   0.0  ...    0.0   \n",
      "193583      0.0  0.0  0.0  0.0  0.0  0.0  0.0  0.0  0.0   0.0  ...    0.0   \n",
      "193585      0.0  0.0  0.0  0.0  0.0  0.0  0.0  0.0  0.0   0.0  ...    0.0   \n",
      "193587      0.0  0.0  0.0  0.0  0.0  0.0  0.0  0.0  0.0   0.0  ...    0.0   \n",
      "193609      0.0  0.0  0.0  0.0  0.0  0.0  0.0  0.0  0.0   0.0  ...    0.0   \n",
      "\n",
      "              601    602    603    604    605    606    607    608    609  \n",
      "Unnamed: 0  602.0  603.0  604.0  605.0  606.0  607.0  608.0  609.0  610.0  \n",
      "1             0.0    4.0    3.0    4.0    2.5    4.0    2.5    3.0    5.0  \n",
      "2             4.0    0.0    5.0    3.5    0.0    0.0    2.0    0.0    0.0  \n",
      "3             0.0    0.0    0.0    0.0    0.0    0.0    2.0    0.0    0.0  \n",
      "4             0.0    0.0    0.0    0.0    0.0    0.0    0.0    0.0    0.0  \n",
      "...           ...    ...    ...    ...    ...    ...    ...    ...    ...  \n",
      "193581        0.0    0.0    0.0    0.0    0.0    0.0    0.0    0.0    0.0  \n",
      "193583        0.0    0.0    0.0    0.0    0.0    0.0    0.0    0.0    0.0  \n",
      "193585        0.0    0.0    0.0    0.0    0.0    0.0    0.0    0.0    0.0  \n",
      "193587        0.0    0.0    0.0    0.0    0.0    0.0    0.0    0.0    0.0  \n",
      "193609        0.0    0.0    0.0    0.0    0.0    0.0    0.0    0.0    0.0  \n",
      "\n",
      "[9743 rows x 610 columns]\n"
     ]
    },
    {
     "data": {
      "text/plain": "<Figure size 432x288 with 1 Axes>",
      "image/png": "[encoded data removed]"
     },
     "metadata": {
      "needs_background": "light"
     },
     "output_type": "display_data"
    },
    {
     "name": "stdout",
     "output_type": "stream",
     "text": [
      "2 [23.09605464  5.48863517]\n",
      "2 [0.17627568 0.04189083]\n",
      "3 [23.09605464  5.48863517  3.50857041]\n",
      "3 [0.17627568 0.04189083 0.02677841]\n",
      "4 [23.09605464  5.48863517  3.50857042  2.75247723]\n",
      "4 [0.17627568 0.04189083 0.02677841 0.02100769]\n"
     ]
    }
   ],
   "source": [
    "import pandas as pd\n",
    "import numpy as np\n",
    "import matplotlib.pyplot as plt\n",
    "from sklearn.decomposition import PCA\n",
    "from sklearn.preprocessing import StandardScaler\n",
    "\n",
    "RATINGS_FILE_NAME = \"ratings.csv\"\n",
    "MOVIES_FILE_NAME = \"movies.csv\"\n",
    "Q1_PROCESSED = \"userXmovie.csv\"\n",
    "ratings_df = pd.read_csv(RATINGS_FILE_NAME)\n",
    "movies_df = pd.read_csv(MOVIES_FILE_NAME)\n",
    "user_rating_df = pd.read_csv(Q1_PROCESSED)\n",
    "\n",
    "def transpose_dataframe(df):\n",
    "    df = df.transpose()\n",
    "    print(df)\n",
    "    df = df.drop([\"Unnamed: 0\"])\n",
    "    return df\n",
    "\n",
    "# Making Mean centered data\n",
    "def mean_centered(df):\n",
    "    return df-df.mean()\n",
    "\n",
    "def check_mean_centered(df):\n",
    "    print(df.sum().sum())\n",
    "\n",
    "def make_PCA(df):\n",
    "    principal = PCA(n_components=2)\n",
    "    principal_components = principal.fit_transform(df)\n",
    "    principaldf = pd.DataFrame(data=principal_components, columns=[\"component1\", \"component2\"])\n",
    "    principaldf.insert(0, \"movieId\", df.index, True)\n",
    "    principaldf[\"movieId\"] = pd.to_numeric(principaldf[\"movieId\"])\n",
    "\n",
    "    return principaldf\n",
    "\n",
    "def merge_movie(df1, df2):\n",
    "    target_df = pd.merge(df1, df2, left_on=\"movieId\", right_on=\"movieId\", how='inner')\n",
    "    target_df = target_df.sort_values(\"movieId\")\n",
    "\n",
    "    return target_df\n",
    "\n",
    "def postprocess(df):\n",
    "    df[\"genres\"] = df[\"genres\"].str.split(\"|\").str[0]\n",
    "    genre = df[\"genres\"].tolist()\n",
    "    unique_genre = df[\"genres\"].unique().tolist()\n",
    "    genre_dict = {string: i for i, string in enumerate(unique_genre)}\n",
    "    genre_id = []\n",
    "    for i in range(len(genre)):\n",
    "        genre_id.append(genre_dict[genre[i]])\n",
    "\n",
    "    return df, genre_id\n",
    "\n",
    "def visualize(merged_df, genre_id):\n",
    "    plt.scatter(merged_df[\"component1\"].tolist(), merged_df[\"component2\"].tolist(), c=genre_id, cmap=plt.cm.rainbow)\n",
    "    plt.show()\n",
    "\n",
    "def PCA_variance_for_d(df):\n",
    "    pca = PCA(300)\n",
    "    pca.fit(df)\n",
    "    cumsum = np.cumsum(pca.explained_variance_ratio_)\n",
    "    d = np.argmax(cumsum >= 0.95) + 1\n",
    "    print(d)\n",
    "\n",
    "\n",
    "df              = transpose_dataframe(user_rating_df)\n",
    "df              = mean_centered(df)\n",
    "principaldf     = make_PCA(df)\n",
    "merged_df       = merge_movie(principaldf, movies_df)\n",
    "merged_df, genre_id = postprocess(merged_df)\n",
    "visualize(merged_df, genre_id)\n",
    "\n",
    "PCA_variance_for_d(df)"
   ],
   "metadata": {
    "collapsed": false,
    "pycharm": {
     "name": "#%%\n"
    }
   }
  },
  {
   "cell_type": "markdown",
   "source": [
    "## REPORT OF NUMBER 2\n",
    "\n",
    "(c) via scatteded plot, we could see that there's relationship by two component, looking as fish shape.\n",
    "\n",
    "(d) It could not make 80% of variance, but PCA dimension over 2 is lossful, so that 2 is best for result.\n",
    "\n",
    "***"
   ],
   "metadata": {
    "collapsed": false,
    "pycharm": {
     "name": "#%% md\n"
    }
   }
  },
  {
   "cell_type": "markdown",
   "source": [
    "# 3 Clustering (15 pts)\n",
    "Apply k-means clustering to the data from Q1 (rows=users, columns=movies, no mean\u0002centering) and cluster the users.\n",
    "(a) For values of k = [2, 4, 8, 16, 32], apply k-means and measure the inertia for each\n",
    "value of k. Plot the resulting inertia scores for each choice of k.\n",
    "(b) From the above results, choose an appropriate value of k from the plot and support\n",
    "your choice.\n",
    "(c) Cluster the data again with your chosen value of k. For each of the resulting clusters,\n",
    "find the top three movies that are highest rated (on average) by the users in the cluster.\n",
    "Report the movie titles and discuss whether the results seem reasonable (i.e., do the\n",
    "top-rated movies in each cluster seem to correspond to recognizable groups)."
   ],
   "metadata": {
    "collapsed": false,
    "pycharm": {
     "name": "#%% md\n"
    }
   }
  },
  {
   "cell_type": "code",
   "execution_count": 51,
   "outputs": [
    {
     "data": {
      "text/plain": "<Figure size 432x288 with 1 Axes>",
      "image/png": "[encoded data removed]"
     },
     "metadata": {
      "needs_background": "light"
     },
     "output_type": "display_data"
    },
    {
     "name": "stdout",
     "output_type": "stream",
     "text": [
      "1196\t1198\t1\t589\t\n",
      "2959\t527\t110\t50\t\n",
      "110\t47\t1210\t1196\t\n",
      "110\t480\t527\t2959\t\n"
     ]
    }
   ],
   "source": [
    "filename = \"userXmovie.csv\"\n",
    "df = pd.read_csv(filename)\n",
    "\n",
    "inertias=[]\n",
    "def kmean(n_cluster, df):\n",
    "    model = KMeans(n_clusters=n_cluster, algorithm=\"auto\")\n",
    "    model.fit(df)\n",
    "    predict = pd.DataFrame(model.predict(df))\n",
    "    predict.columns = [\"predict\"]\n",
    "    df_labeled = pd.concat([df, predict], axis=1)\n",
    "    inertias.append(model.inertia_)\n",
    "    return df_labeled\n",
    "\n",
    "def top10(df_target):\n",
    "    df_target.loc[-1] = df_target.mean(0)\n",
    "    df_target.index = df_target.index + 1  # shifting index\n",
    "    df_target = df_target.sort_index()\n",
    "    idx = df_target.columns.tolist()\n",
    "    key = df_target.loc[0].tolist()\n",
    "    top10list= np.array(key).argsort()[-10:][::-1]\n",
    "    for i in top10list:\n",
    "        if idx[i] not in [\"318\", \"356\", \"296\", \"593\", \"2571\", \"260\"]:\n",
    "            print(idx[i], end=\"\\t\")\n",
    "    print(\"\")\n",
    "\n",
    "\n",
    "\n",
    "labels = [2, 4, 8, 16, 32]\n",
    "for i in labels:\n",
    "    _ = kmean(i, df)\n",
    "\n",
    "plt.plot(labels, inertias, '-o')\n",
    "plt.show()\n",
    "\n",
    "df_labeled = kmean(4, df)\n",
    "for i in range(4):\n",
    "    temp_df = df_labeled.loc[df_labeled[\"predict\"]==i]\n",
    "    temp_df = temp_df.drop([\"predict\"], axis=1)\n",
    "    temp_df = temp_df.drop([\"Unnamed: 0\"], axis=1)\n",
    "     # sorting by index\n",
    "    #temp_df = temp_df.sort_values(\"average\", ascending=False)\n",
    "    globals()[\"df{}\".format(i)] = temp_df\n",
    "\n",
    "#Change 0 ~ 7 in order to find best 3.\n",
    "\n",
    "top10(df0)\n",
    "top10(df1)\n",
    "top10(df2)\n",
    "top10(df3)"
   ],
   "metadata": {
    "collapsed": false,
    "pycharm": {
     "name": "#%%\n"
    }
   }
  },
  {
   "cell_type": "markdown",
   "source": [
    "## Report 3\n",
    "(b) I choosed k as 4. We could easily figure that graph falls rapidly when clusters are in 2 and 4.\n",
    "\n",
    "(c) As \"318\", \"356\", \"296\", \"593 \"2571\", \"260\" movies are popular among all cluster, deleted all these movies\n",
    "\n",
    "    Cluster1: 110, 480, 527, 2959 (Action|Drama|War, Action|Adventure|Sci-Fi|Thriller, Drama|War, Action|Crime|Drama|Thriller)\n",
    "\n",
    "    CLuster2: 1, 1196, 1198, 2858(Adventure|Animation|Children|Comedy|Fantasy, Action|Adventure|Sci-Fi, Action|Adventure, Drama|Romance)\n",
    "\n",
    "    CLuster3: 47, 110, 1196, 1210(Mystery|Thriller, Action|Drama|War, Action|Adventure|Sci-Fi, Action|Adventure|Sci-Fi)\n",
    "\n",
    "    CLuster4: 50, 110, 527, 2959(Crime|Mystery|Thriller, Action|Drama|War, Drama|War, Action|Crime|Drama|Thriller)\n",
    "\n",
    "    Most Cluster has \"action, Drama, war\", so that such relationship could not be obviously discovered.\n",
    "    But, Cluster 4 seems related to Crime\n",
    "\n",
    "\n",
    "\n",
    "\n",
    "\n",
    "***"
   ],
   "metadata": {
    "collapsed": false,
    "pycharm": {
     "name": "#%% md\n"
    }
   }
  },
  {
   "cell_type": "markdown",
   "source": [
    "# 4 Singular Value Decomposition (15 pts)\n",
    "Apply SVD to the user-movie matrix from Q1 (rows=users, columns=movies, no mean\u0002centering).\n",
    "(a) Apply SVD with number of components k = 32. Plot the resulting singular values.\n",
    "(b) For each of the values of k = [2, 4, 8, 16, 32] considered above, report the sum of the\n",
    "explained variance ratio. Discuss how the results compare to the inertia values\n",
    "above and whether it supports your choice of k.\n",
    "(c) Apply SVD with k = 2 and transform the data.\n",
    "(d) Plot the results (for k = 2) and color the users by the cluster memberships you found\n",
    "above. Discuss any patterns you can see and compare them to the previous analysis\n",
    "(either from clustering or PCA)."
   ],
   "metadata": {
    "collapsed": false,
    "pycharm": {
     "name": "#%% md\n"
    }
   }
  },
  {
   "cell_type": "code",
   "source": [
    "USER_MOVIE_FILE_NAME = \"userXmovie.csv\"\n",
    "df = pd.read_csv(USER_MOVIE_FILE_NAME)\n",
    "\n",
    "\n",
    "# =========== (a) Apply SVD, Plot the resulting singular_values =========== #\n",
    "# calculated truncated SVD for top k sigular values\n",
    "k = 32\n",
    "svd_32 = TruncatedSVD(n_components=k)\n",
    "svd_32.fit(df)\n",
    "\n",
    "#  Plot the resulting singular_values\n",
    "plt.plot(svd_32.singular_values_)\n",
    "plt.xlabel('ith singular_values')\n",
    "plt.ylabel('singular_values')\n",
    "plt.grid()\n",
    "plt.show()\n",
    "\n",
    "\n",
    "\n",
    "\n",
    "# =========== (b) report the sum of the explained_variance_ratio\n",
    "#                                       for k = [2, 4, 8, 16, 32] =========== #\n",
    "k = [2, 4, 8, 16, 32]\n",
    "print (\"====== (b) sum of explained_variance_ratio ======\")\n",
    "# calculated sum of each explained_variance_ratio using truncated SVD for k\n",
    "for i in range(len(k)):\n",
    "    svd = TruncatedSVD(n_components=k[i])\n",
    "    svd.fit(df)\n",
    "    print(\"[ K =\", k[i], \"]\\t\", svd.explained_variance_ratio_.sum())\n",
    "print (\"=================================================\\n\")\n",
    "\n",
    "\n",
    "\n",
    "\n",
    "# =========== (c) Apply SVD with k = 2 and transform the data =========== #\n",
    "# Apply SVD with k = 2\n",
    "k = 2\n",
    "svd_2 = TruncatedSVD(n_components=k)\n",
    "svd_2.fit(df)\n",
    "\n",
    "# transform the data\n",
    "svd_2_transformed = svd_2.fit_transform(df)\n",
    "\n",
    "print (\"====== (c) transformed data using svd, k=2 ======\")\n",
    "print(svd_2_transformed)\n",
    "print (\"=================================================\")\n",
    "\n",
    "\n",
    "\n",
    "\n",
    "# =========== (d) Plot the results, and color the users =========== #\n",
    "# find cluster memberships I found above (# of Cluster = 8)\n",
    "N_CLUSTER = 4\n",
    "model = KMeans(n_clusters=N_CLUSTER, algorithm=\"auto\")\n",
    "model.fit(df)\n",
    "person_cluster_info = model.predict(df)\n",
    "\n",
    "# Plot the results (for k = 2) and color the users\n",
    "COLOR_BY_CLUSTER = ['C0', 'C1', 'C2', 'C3', 'C4', 'C5', 'C6', 'C7']\n",
    "for i in range(len(svd_2_transformed)):\n",
    "    plt.scatter(svd_2_transformed[i][0], svd_2_transformed[i][1],\n",
    "                color=COLOR_BY_CLUSTER[person_cluster_info[i]])\n",
    "plt.grid()\n",
    "plt.show()"
   ],
   "metadata": {
    "collapsed": false,
    "pycharm": {
     "name": "#%%\n"
    }
   },
   "execution_count": 52,
   "outputs": [
    {
     "data": {
      "text/plain": "<Figure size 432x288 with 1 Axes>",
      "image/png": "[encoded data removed]"
     },
     "metadata": {
      "needs_background": "light"
     },
     "output_type": "display_data"
    },
    {
     "name": "stdout",
     "output_type": "stream",
     "text": [
      "====== (b) sum of explained_variance_ratio ======\n",
      "[ K = 2 ]\t 0.9478402074272655\n",
      "[ K = 4 ]\t 0.9520917195586229\n",
      "[ K = 8 ]\t 0.9565212181328732\n",
      "[ K = 16 ]\t 0.9613540058292592\n",
      "[ K = 32 ]\t 0.9673849140590275\n",
      "=================================================\n",
      "\n",
      "====== (c) transformed data using svd, k=2 ======\n",
      "[[  2.10365109  29.04608333]\n",
      " [  2.12607167   2.86035284]\n",
      " [  3.02314157   0.63557942]\n",
      " ...\n",
      " [609.78383097  41.06835556]\n",
      " [608.77490206 -18.65464664]\n",
      " [612.12159193  55.42658528]]\n",
      "=================================================\n"
     ]
    },
    {
     "data": {
      "text/plain": "<Figure size 432x288 with 1 Axes>",
      "image/png": "[encoded data removed]"
     },
     "metadata": {
      "needs_background": "light"
     },
     "output_type": "display_data"
    }
   ]
  },
  {
   "cell_type": "markdown",
   "source": [
    "## Report 4"
   ],
   "metadata": {
    "collapsed": false,
    "pycharm": {
     "name": "#%% md\n"
    }
   }
  }
 ],
 "metadata": {
  "kernelspec": {
   "display_name": "Python 3",
   "language": "python",
   "name": "python3"
  },
  "language_info": {
   "codemirror_mode": {
    "name": "ipython",
    "version": 2
   },
   "file_extension": ".py",
   "mimetype": "text/x-python",
   "name": "python",
   "nbconvert_exporter": "python",
   "pygments_lexer": "ipython2",
   "version": "2.7.6"
  }
 },
 "nbformat": 4,
 "nbformat_minor": 0
}