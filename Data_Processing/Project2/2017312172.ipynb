{
 "cells": [
  {
   "cell_type": "markdown",
   "metadata": {
    "collapsed": true,
    "pycharm": {
     "name": "#%% md\n"
    }
   },
   "source": [
    "# 1 Transforming Data (5 pts)\n",
    "The ratings.csv file contains user ratings, one movie per line. See the README file for\n",
    "more information.\n",
    "Transform the data into a user-movie ratings matrix. There should be 610 rows (one\n",
    "for each user) and 9,742 columns (one for each movie). Each cell should contain the users\n",
    "rating for that movie. Note that not every user has rated every movie. Assign a value of\n",
    "0 for any missing values.\n",
    "\n",
    "\n"
   ]
  },
  {
   "cell_type": "code",
   "execution_count": 1,
   "outputs": [],
   "source": [
    "import numpy as np\n",
    "import matplotlib.pyplot as plt\n",
    "from sklearn.decomposition import PCA, TruncatedSVD\n",
    "from sklearn.preprocessing import StandardScaler\n",
    "from sklearn.cluster import KMeans\n",
    "import seaborn as sns\n",
    "import pandas as pd\n"
   ],
   "metadata": {
    "collapsed": false,
    "pycharm": {
     "name": "#%%\n"
    }
   }
  },
  {
   "cell_type": "code",
   "execution_count": 2,
   "outputs": [
    {
     "name": "stdout",
     "output_type": "stream",
     "text": [
      "     1       2       3       4       5       6       7       8       9       \\\n",
      "1       4.0     0.0     4.0     0.0     0.0     4.0     0.0     0.0     0.0   \n",
      "2       0.0     0.0     0.0     0.0     0.0     0.0     0.0     0.0     0.0   \n",
      "3       0.0     0.0     0.0     0.0     0.0     0.0     0.0     0.0     0.0   \n",
      "4       0.0     0.0     0.0     0.0     0.0     0.0     0.0     0.0     0.0   \n",
      "5       4.0     0.0     0.0     0.0     0.0     0.0     0.0     0.0     0.0   \n",
      "..      ...     ...     ...     ...     ...     ...     ...     ...     ...   \n",
      "606     2.5     0.0     0.0     0.0     0.0     0.0     2.5     0.0     0.0   \n",
      "607     4.0     0.0     0.0     0.0     0.0     0.0     0.0     0.0     0.0   \n",
      "608     2.5     2.0     2.0     0.0     0.0     0.0     0.0     0.0     0.0   \n",
      "609     3.0     0.0     0.0     0.0     0.0     0.0     0.0     0.0     0.0   \n",
      "610     5.0     0.0     0.0     0.0     0.0     5.0     0.0     0.0     0.0   \n",
      "\n",
      "     10      ...  193565  193567  193571  193573  193579  193581  193583  \\\n",
      "1       0.0  ...     0.0     0.0     0.0     0.0     0.0     0.0     0.0   \n",
      "2       0.0  ...     0.0     0.0     0.0     0.0     0.0     0.0     0.0   \n",
      "3       0.0  ...     0.0     0.0     0.0     0.0     0.0     0.0     0.0   \n",
      "4       0.0  ...     0.0     0.0     0.0     0.0     0.0     0.0     0.0   \n",
      "5       0.0  ...     0.0     0.0     0.0     0.0     0.0     0.0     0.0   \n",
      "..      ...  ...     ...     ...     ...     ...     ...     ...     ...   \n",
      "606     0.0  ...     0.0     0.0     0.0     0.0     0.0     0.0     0.0   \n",
      "607     0.0  ...     0.0     0.0     0.0     0.0     0.0     0.0     0.0   \n",
      "608     4.0  ...     0.0     0.0     0.0     0.0     0.0     0.0     0.0   \n",
      "609     4.0  ...     0.0     0.0     0.0     0.0     0.0     0.0     0.0   \n",
      "610     0.0  ...     0.0     0.0     0.0     0.0     0.0     0.0     0.0   \n",
      "\n",
      "     193585  193587  193609  \n",
      "1       0.0     0.0     0.0  \n",
      "2       0.0     0.0     0.0  \n",
      "3       0.0     0.0     0.0  \n",
      "4       0.0     0.0     0.0  \n",
      "5       0.0     0.0     0.0  \n",
      "..      ...     ...     ...  \n",
      "606     0.0     0.0     0.0  \n",
      "607     0.0     0.0     0.0  \n",
      "608     0.0     0.0     0.0  \n",
      "609     0.0     0.0     0.0  \n",
      "610     0.0     0.0     0.0  \n",
      "\n",
      "[610 rows x 9742 columns]\n"
     ]
    }
   ],
   "source": [
    "RATINGS_FILE_NAME = \"ratings.csv\"\n",
    "MOVIES_FILE_NAME = \"movies.csv\"\n",
    "ratings_df = pd.read_csv(RATINGS_FILE_NAME)\n",
    "movies_df = pd.read_csv(MOVIES_FILE_NAME)\n",
    "\n",
    "#Checked\n",
    "userid_unique = ratings_df[\"userId\"].unique().tolist()\n",
    "movieid_unique = movies_df[\"movieId\"].unique().tolist()\n",
    "# print(len(userid_unique))\n",
    "# print(len(movieid_unique))\n",
    "\n",
    "new_df = pd.DataFrame(0, columns=movieid_unique, index=userid_unique)\n",
    "for i in range(len(ratings_df)):\n",
    "    new_df.loc[ratings_df.loc[i, \"userId\"],ratings_df.loc[i, \"movieId\"]] = ratings_df.loc[i, \"rating\"]\n",
    "\n",
    "print(new_df)\n",
    "\n",
    "new_df.to_csv(\"userXmovie.csv\")\n"
   ],
   "metadata": {
    "collapsed": false,
    "pycharm": {
     "name": "#%%\n"
    }
   }
  },
  {
   "cell_type": "markdown",
   "source": [
    "## REPORT OF NUMBER 1:\n",
    "\n",
    "In ratings.csv, not all data of movie are presented(9724 of 9742 are picked)\n",
    "So, I got data from movies.csv, so as to make columns in it.\n",
    "\n",
    "\n",
    "\n",
    "***"
   ],
   "metadata": {
    "collapsed": false
   }
  },
  {
   "cell_type": "markdown",
   "source": [
    "# 2 Principle Component Analysis (15 pts)\n",
    "\n",
    "Apply PCA to the reduce the dimensionality of the movies.\n",
    "(a) Transpose the matrix from Q1 so that rows refer to movies and columns refer to users.\n",
    "Mean center the data. Note that you will only use this transformed, mean-centered\n",
    "data for this question.\n",
    "(b) Apply PCA with number of components k = 2 to reduce the dimensionality of the\n",
    "movies.\n",
    "(c) Plot the results and color each movies by its genre. Genres for each movie are listed\n",
    "in movies.csv. Since each movie may have more than one genre, to simplify just use\n",
    "the first genre in the list. Discuss what patterns you see in the visualization.\n",
    "(d) Determine the “intrinsic” dimensionality of the movies, by finding the number of prin\u0002ciple components that are needed to explain 80% of the variance of the data. Discuss\n",
    "how this compares to k = 2 and how this may impact the quality of the visualization\n",
    "above."
   ],
   "metadata": {
    "collapsed": false,
    "pycharm": {
     "name": "#%% md\n"
    }
   }
  },
  {
   "cell_type": "code",
   "execution_count": 3,
   "outputs": [
    {
     "name": "stdout",
     "output_type": "stream",
     "text": [
      "==== (a) Transpose the matrix from Q1 and mean centered ====\n",
      "             0         1         2         3         4         5       6    \\\n",
      "1       3.896017 -0.011753 -0.009752 -0.078834  3.983576 -0.112605  4.4496   \n",
      "2      -0.103983 -0.011753 -0.009752 -0.078834 -0.016424  3.887395 -0.0504   \n",
      "3       3.896017 -0.011753 -0.009752 -0.078834 -0.016424  4.887395 -0.0504   \n",
      "4      -0.103983 -0.011753 -0.009752 -0.078834 -0.016424  2.887395 -0.0504   \n",
      "5      -0.103983 -0.011753 -0.009752 -0.078834 -0.016424  4.887395 -0.0504   \n",
      "...          ...       ...       ...       ...       ...       ...     ...   \n",
      "193581 -0.103983 -0.011753 -0.009752 -0.078834 -0.016424 -0.112605 -0.0504   \n",
      "193583 -0.103983 -0.011753 -0.009752 -0.078834 -0.016424 -0.112605 -0.0504   \n",
      "193585 -0.103983 -0.011753 -0.009752 -0.078834 -0.016424 -0.112605 -0.0504   \n",
      "193587 -0.103983 -0.011753 -0.009752 -0.078834 -0.016424 -0.112605 -0.0504   \n",
      "193609 -0.103983 -0.011753 -0.009752 -0.078834 -0.016424 -0.112605 -0.0504   \n",
      "\n",
      "             7         8         9    ...       600       601       602  \\\n",
      "1      -0.017245 -0.015397 -0.047116  ...  3.954116 -0.047013  3.660439   \n",
      "2       3.982755 -0.015397 -0.047116  ... -0.045884  3.952987 -0.339561   \n",
      "3      -0.017245 -0.015397 -0.047116  ... -0.045884 -0.047013 -0.339561   \n",
      "4      -0.017245 -0.015397 -0.047116  ... -0.045884 -0.047013 -0.339561   \n",
      "5      -0.017245 -0.015397 -0.047116  ... -0.045884 -0.047013 -0.339561   \n",
      "...          ...       ...       ...  ...       ...       ...       ...   \n",
      "193581 -0.017245 -0.015397 -0.047116  ... -0.045884 -0.047013 -0.339561   \n",
      "193583 -0.017245 -0.015397 -0.047116  ... -0.045884 -0.047013 -0.339561   \n",
      "193585 -0.017245 -0.015397 -0.047116  ... -0.045884 -0.047013 -0.339561   \n",
      "193587 -0.017245 -0.015397 -0.047116  ... -0.045884 -0.047013 -0.339561   \n",
      "193609 -0.017245 -0.015397 -0.047116  ... -0.045884 -0.047013 -0.339561   \n",
      "\n",
      "             603       604     605       606       607      608       609  \n",
      "1       2.964278  3.927171  2.0814  3.927325  2.232652  2.98758  4.507031  \n",
      "2       4.964278  3.427171 -0.4186 -0.072675  1.732652 -0.01242 -0.492969  \n",
      "3      -0.035722 -0.072829 -0.4186 -0.072675  1.732652 -0.01242 -0.492969  \n",
      "4      -0.035722 -0.072829 -0.4186 -0.072675 -0.267348 -0.01242 -0.492969  \n",
      "5       2.964278 -0.072829 -0.4186 -0.072675 -0.267348 -0.01242 -0.492969  \n",
      "...          ...       ...     ...       ...       ...      ...       ...  \n",
      "193581 -0.035722 -0.072829 -0.4186 -0.072675 -0.267348 -0.01242 -0.492969  \n",
      "193583 -0.035722 -0.072829 -0.4186 -0.072675 -0.267348 -0.01242 -0.492969  \n",
      "193585 -0.035722 -0.072829 -0.4186 -0.072675 -0.267348 -0.01242 -0.492969  \n",
      "193587 -0.035722 -0.072829 -0.4186 -0.072675 -0.267348 -0.01242 -0.492969  \n",
      "193609 -0.035722 -0.072829 -0.4186 -0.072675 -0.267348 -0.01242 -0.492969  \n",
      "\n",
      "[9742 rows x 610 columns]\n",
      "============================================================\n",
      "\n",
      "======= (b) Apply PCA with number of components k = 2 =======\n",
      "      movieId  component1  component2\n",
      "0           1   36.088963   -6.566697\n",
      "1           2   18.255223   -0.545627\n",
      "2           3    5.905737   -5.712358\n",
      "3           4   -1.976615   -0.808729\n",
      "4           5    3.563325   -2.674375\n",
      "...       ...         ...         ...\n",
      "9737   193581   -2.411564    0.182037\n",
      "9738   193583   -2.415015    0.162220\n",
      "9739   193585   -2.415015    0.162220\n",
      "9740   193587   -2.415015    0.162220\n",
      "9741   193609   -2.280892    0.316481\n",
      "\n",
      "[9742 rows x 3 columns]\n",
      "=============================================================\n",
      "\n",
      "=== (c) Plot the results and color each movies by its genre ===\n"
     ]
    },
    {
     "data": {
      "text/plain": "<Figure size 432x288 with 1 Axes>",
      "image/png": "[encoded data removed]"
     },
     "metadata": {
      "needs_background": "light"
     },
     "output_type": "display_data"
    },
    {
     "name": "stdout",
     "output_type": "stream",
     "text": [
      "===============================================================\n",
      "\n",
      "== (d) Determine the “intrinsic” dimensionality of the movies ==\n",
      "[k = 153] sum of variance:  0.7987022226435222\n",
      "[k = 154] sum of variance:  0.8001902509033136\n",
      "================================================================\n",
      "\n"
     ]
    }
   ],
   "source": [
    "RATINGS_FILE_NAME = \"ratings.csv\"\n",
    "MOVIES_FILE_NAME = \"movies.csv\"\n",
    "Q1_PROCESSED = \"userXmovie.csv\"\n",
    "ratings_df = pd.read_csv(RATINGS_FILE_NAME)\n",
    "movies_df = pd.read_csv(MOVIES_FILE_NAME)\n",
    "user_rating_df = pd.read_csv(Q1_PROCESSED)\n",
    "\n",
    "def transpose_dataframe(df):\n",
    "    df = df.transpose()\n",
    "    df = df.drop([\"Unnamed: 0\"])\n",
    "    return df\n",
    "\n",
    "# Making Mean centered data\n",
    "def mean_centered(df):\n",
    "    return df-df.mean()\n",
    "\n",
    "def check_mean_centered(df):\n",
    "    print(df.sum().sum())\n",
    "\n",
    "def make_PCA(df, k):\n",
    "    principal = PCA(n_components=k)\n",
    "    principal_components = principal.fit_transform(df)\n",
    "    principaldf = pd.DataFrame(data=principal_components, columns=[\"component1\", \"component2\"])\n",
    "    principaldf.insert(0, \"movieId\", df.index, True)\n",
    "    principaldf[\"movieId\"] = pd.to_numeric(principaldf[\"movieId\"])\n",
    "\n",
    "    return principaldf\n",
    "\n",
    "def merge_movie(df1, df2):\n",
    "    target_df = pd.merge(df1, df2, left_on=\"movieId\", right_on=\"movieId\", how='inner')\n",
    "    target_df = target_df.sort_values(\"movieId\")\n",
    "\n",
    "    return target_df\n",
    "\n",
    "def postprocess(df):\n",
    "    df[\"genres\"] = df[\"genres\"].str.split(\"|\").str[0]\n",
    "    genre = df[\"genres\"].tolist()\n",
    "    unique_genre = df[\"genres\"].unique().tolist()\n",
    "    genre_dict = {string: i for i, string in enumerate(unique_genre)}\n",
    "    genre_id = []\n",
    "    for i in range(len(genre)):\n",
    "        genre_id.append(genre_dict[genre[i]])\n",
    "\n",
    "    return df, genre_id\n",
    "\n",
    "def visualize(merged_df, genre_id):\n",
    "    plt.scatter(merged_df[\"component1\"].tolist(), merged_df[\"component2\"].tolist(), c=genre_id, cmap=plt.cm.rainbow, s=5)\n",
    "    plt.show()\n",
    "\n",
    "def PCA_variance_for_d(df, k):\n",
    "    pca = PCA(k)\n",
    "    pca.fit(df)\n",
    "    return (pca.explained_variance_ratio_.sum())\n",
    "\n",
    "\n",
    "# =========== (a) Transpose the matrix from Q1 =========== #\n",
    "# Transpose the matrix from Q1\n",
    "df              = transpose_dataframe(user_rating_df)\n",
    "# Mean center the data.\n",
    "df              = mean_centered(df)\n",
    "print (\"==== (a) Transpose the matrix from Q1 and mean centered ====\")\n",
    "print(df)\n",
    "print (\"============================================================\\n\")\n",
    "\n",
    "\n",
    "# =========== (b) Apply PCA with number of components k = 2 =========== #\n",
    "principaldf     = make_PCA(df, 2)\n",
    "print (\"======= (b) Apply PCA with number of components k = 2 =======\")\n",
    "print(principaldf)\n",
    "print (\"=============================================================\\n\")\n",
    "\n",
    "\n",
    "# ======= (c) Plot the results and color each movies by its genre ======= #\n",
    "merged_df       = merge_movie(principaldf, movies_df)\n",
    "merged_df, genre_id = postprocess(merged_df)\n",
    "print (\"=== (c) Plot the results and color each movies by its genre ===\")\n",
    "visualize(merged_df, genre_id)\n",
    "print (\"===============================================================\\n\")\n",
    "\n",
    "\n",
    "# ====== (d) Determine the “intrinsic” dimensionality of the movies ====== #\n",
    "print (\"== (d) Determine the “intrinsic” dimensionality of the movies ==\")\n",
    "EXPLAIN_80 = 154\n",
    "print(\"[k = 153] sum of variance: \", PCA_variance_for_d(df, EXPLAIN_80 - 1))\n",
    "print(\"[k = 154] sum of variance: \", PCA_variance_for_d(df, EXPLAIN_80))\n",
    "print (\"================================================================\\n\")"
   ],
   "metadata": {
    "collapsed": false,
    "pycharm": {
     "name": "#%%\n"
    }
   }
  },
  {
   "cell_type": "markdown",
   "source": [
    "## REPORT OF NUMBER 2\n",
    "\n",
    "(c) via scatteded plot, we could see that there's relationship by two component, looking as fish shape.\n",
    "\n",
    "(d) It could not make 80% of variance, but PCA dimension over 2 is lossful, so that 2 is best for result.\n",
    "\n",
    "***"
   ],
   "metadata": {
    "collapsed": false,
    "pycharm": {
     "name": "#%% md\n"
    }
   }
  },
  {
   "cell_type": "markdown",
   "source": [
    "# 3 Clustering (15 pts)\n",
    "Apply k-means clustering to the data from Q1 (rows=users, columns=movies, no mean\u0002centering) and cluster the users.\n",
    "(a) For values of k = [2, 4, 8, 16, 32], apply k-means and measure the inertia for each\n",
    "value of k. Plot the resulting inertia scores for each choice of k.\n",
    "(b) From the above results, choose an appropriate value of k from the plot and support\n",
    "your choice.\n",
    "(c) Cluster the data again with your chosen value of k. For each of the resulting clusters,\n",
    "find the top three movies that are highest rated (on average) by the users in the cluster.\n",
    "Report the movie titles and discuss whether the results seem reasonable (i.e., do the\n",
    "top-rated movies in each cluster seem to correspond to recognizable groups)."
   ],
   "metadata": {
    "collapsed": false,
    "pycharm": {
     "name": "#%% md\n"
    }
   }
  },
  {
   "cell_type": "code",
   "execution_count": 4,
   "outputs": [
    {
     "name": "stdout",
     "output_type": "stream",
     "text": [
      "==== (a) apply k-means and measure the inertia and plot ====\n",
      "[1094681.3969594603, 1036424.5633047103, 969328.9643269818, 891706.6152008187, 780329.5184302119]\n"
     ]
    },
    {
     "data": {
      "text/plain": "<Figure size 432x288 with 1 Axes>",
      "image/png": "[encoded data removed]"
     },
     "metadata": {
      "needs_background": "light"
     },
     "output_type": "display_data"
    },
    {
     "name": "stdout",
     "output_type": "stream",
     "text": [
      "============================================================\n",
      "\n",
      "==== (c) find the top three movies that are highest rated ====\n",
      "Top3 for cluster 0 : Index(['260', '1196', '2571'], dtype='object')\n",
      "Top3 for cluster 1 : Index(['318', '356', '296'], dtype='object')\n",
      "Top3 for cluster 2 : Index(['2571', '1196', '356'], dtype='object')\n",
      "Top3 for cluster 3 : Index(['4973', '2395', '260'], dtype='object')\n",
      "==============================================================\n",
      "\n"
     ]
    }
   ],
   "source": [
    "def kmean(n_cluster, df):\n",
    "    model = KMeans(n_clusters=n_cluster, algorithm=\"auto\")\n",
    "    model.fit(df)\n",
    "    df_labeled = df.copy()\n",
    "    df_labeled[\"predict\"] = model.predict(df)\n",
    "    return df_labeled, model.inertia_\n",
    "\n",
    "def top10(df_target):\n",
    "    df_target.loc[-1] = df_target.mean(0)\n",
    "    df_target.index = df_target.index + 1  # shifting index\n",
    "    df_target = df_target.sort_index()\n",
    "    idx = df_target.columns.tolist()\n",
    "    key = df_target.loc[0].tolist()\n",
    "    top10list= np.array(key).argsort()[-10:][::-1]\n",
    "    for i in top10list:\n",
    "        if idx[i] not in [\"318\", \"356\", \"296\", \"593\", \"2571\", \"260\"]:\n",
    "            print(idx[i], end=\"\\t\")\n",
    "    print(\"\")\n",
    "\n",
    "def top3(df_target):\n",
    "    MOVIES_FILE_NAME = \"movies.csv\"\n",
    "    movies = pd.read_csv(MOVIES_FILE_NAME)\n",
    "    movies_title = movies[['movieId', 'title']]\n",
    "    movie_rate_mean = pd.DataFrame(df_target.mean())\n",
    "    top3_list_idx = movie_rate_mean[0].to_numpy().argsort()[-3:][::-1]\n",
    "    top3_list = movie_rate_mean.index[top3_list_idx]\n",
    "    # top3_movie = []\n",
    "    # for i in top3_list:\n",
    "        # print(movies_title[movies_title['movieId'] == i]['title'])\n",
    "        # top3_movie.append(movies_title[movies_title['movieId'] == i]['title'].astype(str))\n",
    "    return top3_list\n",
    "\n",
    "\n",
    "\n",
    "filename = \"userXmovie.csv\"\n",
    "df = pd.read_csv(filename)\n",
    "df = df.drop([\"Unnamed: 0\"], axis=1)\n",
    "\n",
    "# =========== (a) apply k-means and measure the inertia and plot =========== #\n",
    "# apply k-means and measure the inertia\n",
    "labels = [2, 4, 8, 16, 32]\n",
    "inertias=[]\n",
    "\n",
    "for i in labels:\n",
    "    _, inertia = kmean(i, df)\n",
    "    inertias.append(inertia)\n",
    "\n",
    "print (\"==== (a) apply k-means and measure the inertia and plot ====\")\n",
    "print(inertias)\n",
    "# Plot the resulting inertia scores for each choice of k\n",
    "plt.plot(labels, inertias, '-o')\n",
    "plt.show()\n",
    "print (\"============================================================\\n\")\n",
    "\n",
    "\n",
    "\n",
    "# ========= (c) Cluster the data again with your chosen value of k ========= #\n",
    "k = 4\n",
    "top_movies = []\n",
    "df_labeled, _ = kmean(k, df)\n",
    "\n",
    "# find top 3 movies for each cluster\n",
    "for i in range(k):\n",
    "    idx_clustered_user_movie_df = df_labeled['predict'] == i\n",
    "    clustered_user_movie_df = df_labeled[idx_clustered_user_movie_df]\n",
    "    clustered_user_movie_df = clustered_user_movie_df.drop(['predict'],axis=1)\n",
    "    top_movies.append(top3(clustered_user_movie_df))\n",
    "\n",
    "# print top 3 movies for each cluster\n",
    "print (\"==== (c) find the top three movies that are highest rated ====\")\n",
    "for i in range(k):\n",
    "    top_movies[i]\n",
    "    print(\"Top3 for cluster\", i, \":\", top_movies[i])\n",
    "print (\"==============================================================\\n\")"
   ],
   "metadata": {
    "collapsed": false,
    "pycharm": {
     "name": "#%%\n"
    },
    "tags": []
   }
  },
  {
   "cell_type": "markdown",
   "source": [
    "## Report 3\n",
    "(b) I choosed k as 4. We could easily figure that graph falls rapidly when clusters are in 2 and 4.\n",
    "\n",
    "(c)\n",
    "* Top3 for cluster 0\n",
    "  * 296 - Star Wars: Episode IV - A New Hope (1977),Action|Adventure|Sci-Fi\n",
    "  * 1196 - Star Wars: Episode V - The Empire Strikes Back (1980),Action|Adventure|Sci-Fi\n",
    "  * 260 - Star Wars: Episode IV - A New Hope (1977),Action|Adventure|Sci-Fi\n",
    "* Top3 for cluster 1\n",
    "  * 1196 - Star Wars: Episode V - The Empire Strikes Back (1980),Action|Adventure|\n",
    "  * 260 - Star Wars: Episode IV - A New Hope (1977),Action|Adventure|Sci-Fi\n",
    "  * 356 - Forrest Gump (1994),Comedy|Drama|Romance|War\n",
    "* Top3 for cluster 2\n",
    "  * 318 - \"Shawshank Redemption, The (1994)\",Crime|Drama\n",
    "  * 356 - Forrest Gump (1994),Comedy|Drama|Romance|War\n",
    "  * 296 - Star Wars: Episode IV - A New Hope (1977),Action|Adventure|Sci-Fi\n",
    "* Top3 for cluster 3\n",
    "  * 2571 - \"Matrix, The (1999)\",Action|Sci-Fi|Thriller\n",
    "  * 58559 - \"Dark Knight, The (2008)\",Action|Crime|Drama|IMAX\n",
    "  * 2959 - Fight Club (1999),Action|Crime|Drama|Thriller\n",
    "\n",
    "    We could see that these clusters are highly related to genres.\n",
    "    For cluster 0, this is related to Star Wars, that as it is famous movie, lots of people saw and rated the movie, that\n",
    "    it could sufficiently cluster enough.\n",
    "\n",
    "    For cluster 1 this also affected star wars with forrest gump. It does not seems related, but as it is famous enough\n",
    "    for users to watch without caring genre, this cluster could be seen as \"famous movie\"\n",
    "\n",
    "    For cluster 2, this cluster seems related to drama, but due to popularity of star wars,  we could not see\n",
    "    \"obvious\" relationship in this cluster.\n",
    "\n",
    "    For cluster3, we could highly inference that this movies are related to action, crime, thriller.\n",
    "\n",
    "\n",
    "\n",
    "***"
   ],
   "metadata": {
    "collapsed": false,
    "pycharm": {
     "name": "#%% md\n"
    }
   }
  },
  {
   "cell_type": "markdown",
   "source": [
    "# 4 Singular Value Decomposition (15 pts)\n",
    "Apply SVD to the user-movie matrix from Q1 (rows=users, columns=movies, no mean\u0002centering).\n",
    "(a) Apply SVD with number of components k = 32. Plot the resulting singular values.\n",
    "(b) For each of the values of k = [2, 4, 8, 16, 32] considered above, report the sum of the\n",
    "explained variance ratio. Discuss how the results compare to the inertia values\n",
    "above and whether it supports your choice of k.\n",
    "(c) Apply SVD with k = 2 and transform the data.\n",
    "(d) Plot the results (for k = 2) and color the users by the cluster memberships you found\n",
    "above. Discuss any patterns you can see and compare them to the previous analysis\n",
    "(either from clustering or PCA)."
   ],
   "metadata": {
    "collapsed": false,
    "pycharm": {
     "name": "#%% md\n"
    }
   }
  },
  {
   "cell_type": "code",
   "source": [
    "USER_MOVIE_FILE_NAME = \"userXmovie.csv\"\n",
    "df = pd.read_csv(USER_MOVIE_FILE_NAME)\n",
    "df = df.drop([\"Unnamed: 0\"], axis=1)\n",
    "\n",
    "\n",
    "#axis =========== (a) Apply SVD, Plot the resulting singular_values =========== #\n",
    "# calculated truncated SVD for top k sigular values\n",
    "k = 32\n",
    "svd_32 = TruncatedSVD(n_components=k)\n",
    "svd_32.fit(df)\n",
    "\n",
    "#  Plot the resulting singular_values\n",
    "plt.plot(svd_32.singular_values_)\n",
    "plt.xlabel('ith singular_values')\n",
    "plt.ylabel('singular_values')\n",
    "plt.grid()\n",
    "plt.show()\n",
    "\n",
    "\n",
    "\n",
    "\n",
    "# =========== (b) report the sum of the explained_variance_ratio\n",
    "#                                       for k = [2, 4, 8, 16, 32] =========== #\n",
    "k = [2, 4, 8, 16, 32]\n",
    "print (\"====== (b) sum of explained_variance_ratio ======\")\n",
    "# calculated sum of each explained_variance_ratio using truncated SVD for k\n",
    "for i in k:\n",
    "    svd = TruncatedSVD(i)\n",
    "    svd.fit(df)\n",
    "    print(\"[ K =\", i, \"]\\t\", svd.explained_variance_ratio_.sum())\n",
    "print (\"=================================================\\n\")\n",
    "\n",
    "\n",
    "\n",
    "\n",
    "# =========== (c) Apply SVD with k = 2 and transform the data =========== #\n",
    "# Apply SVD with k = 2\n",
    "k = 2\n",
    "svd_2 = TruncatedSVD(n_components=k)\n",
    "svd_2.fit(df)\n",
    "\n",
    "# transform the data\n",
    "svd_2_transformed = svd_2.fit_transform(df)\n",
    "\n",
    "print (\"====== (c) transformed data using svd, k=2 ======\")\n",
    "print(svd_2_transformed)\n",
    "print (\"=================================================\")\n",
    "\n",
    "\n",
    "\n",
    "\n",
    "# =========== (d) Plot the results, and color the users =========== #\n",
    "# find cluster memberships I found above (# of Cluster = 8)\n",
    "N_CLUSTER = 4\n",
    "model = KMeans(n_clusters=N_CLUSTER, algorithm=\"auto\")\n",
    "model.fit(df)\n",
    "person_cluster_info = model.predict(df)\n",
    "\n",
    "# Plot the results (for k = 2) and color the users\n",
    "COLOR_BY_CLUSTER = ['C0', 'C1', 'C2', 'C3', 'C4', 'C5', 'C6', 'C7']\n",
    "for i in range(len(svd_2_transformed)):\n",
    "    plt.scatter(svd_2_transformed[i][0], svd_2_transformed[i][1],\n",
    "                color=COLOR_BY_CLUSTER[person_cluster_info[i]])\n",
    "plt.grid()\n",
    "plt.show()"
   ],
   "metadata": {
    "collapsed": false,
    "pycharm": {
     "name": "#%%\n"
    }
   },
   "execution_count": 5,
   "outputs": [
    {
     "data": {
      "text/plain": "<Figure size 432x288 with 1 Axes>",
      "image/png": "[encoded data removed]"
     },
     "metadata": {
      "needs_background": "light"
     },
     "output_type": "display_data"
    },
    {
     "name": "stdout",
     "output_type": "stream",
     "text": [
      "====== (b) sum of explained_variance_ratio ======\n",
      "[ K = 2 ]\t 0.17282703639280567\n",
      "[ K = 4 ]\t 0.2218694528523222\n",
      "[ K = 8 ]\t 0.28703149016098894\n",
      "[ K = 16 ]\t 0.36340719073408234\n",
      "[ K = 32 ]\t 0.46080978488730046\n",
      "=================================================\n",
      "\n",
      "====== (c) transformed data using svd, k=2 ======\n",
      "[[ 29.68924387 -14.26169352]\n",
      " [  3.13506484   4.10122227]\n",
      " [  0.72319333  -0.47825229]\n",
      " ...\n",
      " [ 62.05385851  -2.73797571]\n",
      " [  4.05060108  -3.18757379]\n",
      " [ 74.21215636  46.75826243]]\n",
      "=================================================\n"
     ]
    },
    {
     "data": {
      "text/plain": "<Figure size 432x288 with 1 Axes>",
      "image/png": "[encoded data removed]"
     },
     "metadata": {
      "needs_background": "light"
     },
     "output_type": "display_data"
    }
   ]
  },
  {
   "cell_type": "markdown",
   "source": [
    "## Report 4\n",
    "\n",
    "### (b) For each of the values of k = [2, 4, 8, 16, 32] considered above, report the sum of the explained variance ratio. Discuss how the results compare to the inertia values above and whether it supports your choice of k.\n",
    "\n",
    "```\n",
    "====== (b) sum of explained_variance_ratio ======\n",
    "[ K = 2 ]\t 0.17282702438349054\n",
    "[ K = 4 ]\t 0.22186824581131534\n",
    "[ K = 8 ]\t 0.28702798645410343\n",
    "[ K = 16 ]\t 0.3634235239007264\n",
    "[ K = 32 ]\t 0.46095909742196944\n",
    "=================================================\n",
    "```\n",
    "As the singular vectors(number of components) that describing the data increases, the sum of the explained variance ratio increases.\n",
    "I choose K = 4 for inertia, and it gives me 1039770.464220447 as inertia values.\n",
    "\n",
    "```\n",
    "  K     explained_variance_ratio      inertia\n",
    "[ 2 ]     0.17282702438349054    1094664.3508473537\n",
    "[ 4 ]     0.22186824581131534    1039770.464220447\n",
    "[ 8 ]     0.28702798645410343    977170.0278454439\n",
    "[ 16 ]    0.3634235239007264     898340.9759445542\n",
    "[ 32 ]    0.46095909742196944    781701.5789231444\n",
    "```\n",
    "\n",
    "As shown in the table above, inertia value decreases as K increases, and explained_variance_ratio increases as K increases. It means we can explain the data in more detail if we has the greater K.\n",
    "\n",
    "As k increases the inertia score does not change much, thus will pick k=n. The slope of explained_variance_ratio & K from 2 to 4 and 4 to 8 is the largest, so explained_variance_ratio also supports choosing K.\n",
    "\n",
    "\n",
    "<br/>\n",
    "\n",
    "### (d) Plot the results (for k = 2) and color the users by the cluster memberships you found above. Discuss any patterns you can see and compare them to the previous analysis (either from clustering or PCA).\n",
    "\n",
    ": I choose # of cluster as 4, and data is clustered with y = x-20 and y = -x + 20 based on about (x, y) = (20, 0).\n",
    "\n",
    "We could see that by SVD, sample space could be separated into 4 clusters.\n",
    "\n",
    "By question 3, we could see that sample space could be clustered into 4 parts, which seems related to genres.\n",
    "\n",
    "So we could highly infer that this clustered sample space are related to genres of movies.\n",
    "\n",
    "\n",
    "\n"
   ],
   "metadata": {
    "collapsed": false,
    "pycharm": {
     "name": "#%% md\n"
    }
   }
  },
  {
   "cell_type": "code",
   "execution_count": 5,
   "metadata": {},
   "outputs": [],
   "source": []
  },
  {
   "cell_type": "code",
   "execution_count": 5,
   "metadata": {},
   "outputs": [],
   "source": []
  }
 ],
 "metadata": {
  "kernelspec": {
   "display_name": "Python 3",
   "language": "python",
   "name": "python3"
  },
  "language_info": {
   "codemirror_mode": {
    "name": "ipython",
    "version": 2
   },
   "file_extension": ".py",
   "mimetype": "text/x-python",
   "name": "python",
   "nbconvert_exporter": "python",
   "pygments_lexer": "ipython2",
   "version": "2.7.17"
  }
 },
 "nbformat": 4,
 "nbformat_minor": 0
}