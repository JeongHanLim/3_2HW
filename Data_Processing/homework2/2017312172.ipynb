{
 "cells": [
  {
   "cell_type": "markdown",
   "metadata": {
    "nbgrader": {
     "grade": false,
     "locked": true,
     "solution": false
    }
   },
   "source": [
    "d# Homework 2 (Due: 2021.04.01 11:59 PM)"
   ]
  },
  {
   "cell_type": "markdown",
   "metadata": {
    "pycharm": {
     "name": "#%% md\n"
    }
   },
   "source": [
    "Name: 임정한"
   ]
  },
  {
   "cell_type": "markdown",
   "metadata": {},
   "source": [
    "Student ID: 2017312172"
   ]
  },
  {
   "cell_type": "markdown",
   "metadata": {
    "nbgrader": {
     "grade": false,
     "locked": true,
     "solution": false
    }
   },
   "source": [
    "For this homework, you are provided with an input file.\n",
    "Submit the code that you used for analysis as an ipython notebook and an exported PDF file."
   ]
  },
  {
   "cell_type": "markdown",
   "metadata": {
    "nbgrader": {
     "grade": false,
     "locked": true,
     "solution": false
    }
   },
   "source": [
    "# Q1 Analyzing the Election Data (3 x 8 = 24 pts)"
   ]
  },
  {
   "cell_type": "markdown",
   "metadata": {
    "nbgrader": {
     "grade": false,
     "locked": true,
     "solution": false
    }
   },
   "source": [
    "Run the following cell to set the filename."
   ]
  },
  {
   "cell_type": "code",
   "execution_count": 92,
   "metadata": {
    "collapsed": true,
    "nbgrader": {
     "grade": false,
     "locked": true,
     "solution": false
    }
   },
   "outputs": [],
   "source": [
    "filename = 'bush-gore-results-fl_demo.csv'"
   ]
  },
  {
   "cell_type": "markdown",
   "metadata": {
    "collapsed": true,
    "nbgrader": {
     "grade": false,
     "locked": true,
     "solution": false
    }
   },
   "source": [
    "(a) Determine how many counties Bush won. You can assume that each row corresponds to a unique county.\n",
    "    Demo file: 'bush-gore-results-fl_demo.csv' "
   ]
  },
  {
   "cell_type": "code",
   "execution_count": 93,
   "metadata": {
    "collapsed": true
   },
   "outputs": [
    {
     "name": "stdout",
     "output_type": "stream",
     "text": [
      "51\n"
     ]
    }
   ],
   "source": [
    "import pandas as pd\n",
    "import numpy as np\n",
    "df = pd.read_csv(filename)\n",
    "#All possible candidates are 'bush', 'gore', 'brow', 'nade', 'harr', 'hage', 'buch', 'mcre', 'phil', 'moor'. You can find a person from the list.\n",
    "df_resize = df.loc[:, ['bush', 'gore', 'brow', 'nade', 'harr', 'hage', 'buch', 'mcre', 'phil', 'moor']]\n",
    "\n",
    "bush_won = 0\n",
    "for length in range(df_resize.shape[0]):\n",
    "    if df_resize.loc[length,:].max() == df_resize.loc[length,'bush']:\n",
    "        bush_won += 1\n",
    "print(bush_won)"
   ]
  },
  {
   "cell_type": "markdown",
   "metadata": {
    "nbgrader": {
     "grade": false,
     "locked": true,
     "solution": false
    }
   },
   "source": [
    "(b) Determine who won the largest county. The column named \"npop\" records the size of each county.\n",
    "    Demo file: 'bush-gore-results-fl_demo.csv' "
   ]
  },
  {
   "cell_type": "code",
   "execution_count": 94,
   "metadata": {
    "collapsed": true
   },
   "outputs": [
    {
     "name": "stdout",
     "output_type": "stream",
     "text": [
      "Gore\n"
     ]
    }
   ],
   "source": [
    "import pandas as pd\n",
    "import numpy as np\n",
    "#default\n",
    "filename = 'bush-gore-results-fl_demo.csv'\n",
    "df = pd.read_csv(filename)\n",
    "\n",
    "max_index = df['npop'].argmax()\n",
    "\n",
    "\n",
    "if (df.loc[max_index,'bush']<df.loc[max_index, 'gore']):\n",
    "    print(\"Gore\")\n",
    "else:\n",
    "    print(\"Bush\")\n"
   ]
  },
  {
   "cell_type": "markdown",
   "metadata": {
    "nbgrader": {
     "grade": false,
     "locked": true,
     "solution": false
    }
   },
   "source": [
    "(c) Determine the average number of votes per county that Buchanan obtained. You can assume that each row corresponds to a unique county.\n",
    "    Demo file: 'bush-gore-results-fl_demo.csv' "
   ]
  },
  {
   "cell_type": "code",
   "execution_count": 95,
   "metadata": {
    "collapsed": true
   },
   "outputs": [
    {
     "name": "stdout",
     "output_type": "stream",
     "text": [
      "360.67164179104475\n"
     ]
    }
   ],
   "source": [
    "import pandas as pd\n",
    "import numpy as np\n",
    "#default\n",
    "filename = 'bush-gore-results-fl_demo.csv'\n",
    "df = pd.read_csv(filename)\n",
    "\n",
    "df_resize = df.loc[:, 'buch']\n",
    "#print(df_resize)\n",
    "print(df_resize.mean())"
   ]
  },
  {
   "cell_type": "markdown",
   "metadata": {
    "nbgrader": {
     "grade": false,
     "locked": true,
     "solution": false
    }
   },
   "source": [
    "(d) Determine, for the number of votes Buchanan obtained in Palm Beach, how many standard deviations it is away from Buchanan's overall mean, in absolute value. The row with coounty number 50 (\"co\"=50) records the results for Palm Beach County. (You can assumed that such a row will exist in the test case.)\n",
    "    Demo file: 'bush-gore-results-fl_demo.csv' "
   ]
  },
  {
   "cell_type": "code",
   "execution_count": 96,
   "metadata": {
    "collapsed": true
   },
   "outputs": [
    {
     "name": "stdout",
     "output_type": "stream",
     "text": [
      "6.993018491215867\n"
     ]
    }
   ],
   "source": [
    "#It asks to compute (the absolute difference / std).\n",
    "\n",
    "import pandas as pd\n",
    "import numpy as np\n",
    "#default\n",
    "filename = 'bush-gore-results-fl_demo.csv'\n",
    "df = pd.read_csv(filename)\n",
    "co = 50\n",
    "\n",
    "df_resize = df.loc[:, 'buch']\n",
    "#print(df_resize)\n",
    "buch_mean = df_resize.mean()\n",
    "buch_std = df_resize.std()\n",
    "print((df_resize.iloc[co-1]-buch_mean)/buch_std)\n",
    "#print(np.square(df_resize.iloc[co-1]-buch_mean))\n",
    "\n"
   ]
  },
  {
   "cell_type": "markdown",
   "metadata": {},
   "source": [
    "(e) Now calculate the above statistic (same as in part f) for all the counties and report them in decreasing order.\n",
    "    Demo file: 'bush-gore-results-fl_demo.csv' \n",
    "    Example output: \n",
    "    county_50 6.993018  \n",
    "    county_52 ...\n",
    "    ...\n",
    "    ..."
   ]
  },
  {
   "cell_type": "code",
   "execution_count": 97,
   "metadata": {
    "collapsed": true
   },
   "outputs": [
    {
     "name": "stdout",
     "output_type": "stream",
     "text": [
      "county_ 50 \t 6.993018491215867\n",
      "county_ 52 \t 1.6721223983806142\n",
      "county_ 28 \t 1.3031713743995565\n",
      "county_ 6 \t 1.1720381791291807\n",
      "county_ 15 \t 0.8697650510483141\n",
      "county_ 5 \t 0.6875121355877918\n",
      "county_ 51 \t 0.6875121355877918\n",
      "county_ 41 \t 0.6719539598777472\n",
      "county_ 43 \t 0.6652861702877281\n",
      "county_ 53 \t 0.6030534674475496\n",
      "county_ 16 \t 0.5363755715473585\n",
      "county_ 64 \t 0.5230399923673202\n",
      "county_ 48 \t 0.41191016586700174\n",
      "county_ 55 \t 0.11185963431614161\n",
      "county_ 35 \t 0.09852405513610338\n",
      "county_ 56 \t 0.09852405513610338\n",
      "county_ 34 \t 0.06296251065600145\n",
      "county_ 36 \t 0.04740433494595685\n",
      "county_ 40 \t 0.02295577311588676\n",
      "county_ 9 \t 0.02073317658588039\n",
      "county_ 46 \t 0.014065386995861275\n",
      "county_ 1 \t 0.00517500087583579\n",
      "county_ 3 \t -0.028163947074259777\n",
      "county_ 26 \t -0.04149952625429801\n",
      "county_ 58 \t -0.07039328114438083\n",
      "county_ 57 \t -0.14818415969460383\n",
      "county_ 10 \t -0.16596493193465478\n",
      "county_ 8 \t -0.17485531805468027\n",
      "county_ 54 \t -0.2504236000748969\n",
      "county_ 49 \t -0.257091389664916\n",
      "county_ 27 \t -0.2970981272050307\n",
      "county_ 59 \t -0.30376591679504983\n",
      "county_ 11 \t -0.30821110985506256\n",
      "county_ 66 \t -0.3126563029150753\n",
      "county_ 60 \t -0.32599188209511354\n",
      "county_ 42 \t -0.33043707515512627\n",
      "county_ 61 \t -0.33932746127515173\n",
      "county_ 30 \t -0.34599525086517086\n",
      "county_ 31 \t -0.35266304045519\n",
      "county_ 7 \t -0.3793341988152664\n",
      "county_ 45 \t -0.3793341988152664\n",
      "county_ 12 \t -0.3815567953452728\n",
      "county_ 67 \t -0.38377939187527915\n",
      "county_ 17 \t -0.394892374525311\n",
      "county_ 29 \t -0.41045055023535565\n",
      "county_ 2 \t -0.4171183398253747\n",
      "county_ 22 \t -0.4215635328853875\n",
      "county_ 37 \t -0.43045391900541297\n",
      "county_ 4 \t -0.4348991120654257\n",
      "county_ 44 \t -0.4749058496055404\n",
      "county_ 65 \t -0.4771284461355468\n",
      "county_ 47 \t -0.4837962357255659\n",
      "county_ 38 \t -0.49268662184559137\n",
      "county_ 19 \t -0.49490921837559776\n",
      "county_ 63 \t -0.4971318149056041\n",
      "county_ 13 \t -0.4993544114356105\n",
      "county_ 18 \t -0.5060222010256296\n",
      "county_ 24 \t -0.5126899906156487\n",
      "county_ 14 \t -0.514912587145655\n",
      "county_ 20 \t -0.514912587145655\n",
      "county_ 32 \t -0.514912587145655\n",
      "county_ 39 \t -0.514912587145655\n",
      "county_ 62 \t -0.5193577802056678\n",
      "county_ 23 \t -0.5282481663256933\n",
      "county_ 25 \t -0.5304707628556997\n",
      "county_ 33 \t -0.5571419212157761\n",
      "county_ 21 \t -0.5593645177457826\n"
     ]
    }
   ],
   "source": [
    "import pandas as pd\n",
    "import numpy as np\n",
    "#default\n",
    "filename = 'bush-gore-results-fl_demo.csv'\n",
    "df = pd.read_csv(filename)\n",
    "\n",
    "\n",
    "dict_var = {}\n",
    "df_resize = df.loc[:, 'buch']\n",
    "\n",
    "#print(df_resize)\n",
    "buch_mean = df_resize.mean()\n",
    "buch_std = df_resize.std()\n",
    "for i in range(df.shape[0]):\n",
    "    buch_value = df_resize.iloc[i]\n",
    "    dict_var[i] = ((buch_value-buch_mean)/buch_std)\n",
    "sorted_var = sorted(dict_var.items(), reverse = True, key = lambda x: x[1])\n",
    "for index, values in enumerate(sorted_var):\n",
    "    print(\"county_\", values[0]+1, \"\\t\", values[1])"
   ]
  },
  {
   "cell_type": "markdown",
   "metadata": {
    "nbgrader": {
     "grade": false,
     "locked": true,
     "solution": false
    }
   },
   "source": [
    "(f) Assuming that the votes were distributed across the white, black, and hispanic population uniformly, determine which candidate obtained the largest number of votes for each subpopulation.\n",
    "    Demo file: 'bush-gore-results-fl_demo.csv' \n",
    "    Example output:\n",
    "    white: bush\n",
    "    black: ..\n",
    "    hispanic: .."
   ]
  },
  {
   "cell_type": "code",
   "execution_count": 98,
   "metadata": {
    "collapsed": true
   },
   "outputs": [
    {
     "name": "stdout",
     "output_type": "stream",
     "text": [
      "whit   bush\n",
      "blac   gore\n",
      "hisp   gore\n"
     ]
    }
   ],
   "source": [
    "import pandas as pd\n",
    "import numpy as np\n",
    "#default\n",
    "filename = 'bush-gore-results-fl_demo.csv'\n",
    "df = pd.read_csv(filename)\n",
    "\n",
    "df_feature = df.loc[:, ['whit','blac','hisp']]\n",
    "candidate = ['bush', 'gore']\n",
    "df_cand = df.loc[:, candidate]\n",
    "cand_feat = [[0,0,0], [0,0,0]]\n",
    "\n",
    "feature = ['whit', 'blac', 'hisp']\n",
    "for i in range(df_cand.shape[0]):\n",
    "    for j in range(3):\n",
    "       cand_feat[0][j] += df_feature.iloc[i, j] / 100 * df_cand.iloc[i, 0]\n",
    "       cand_feat[1][j] += df_feature.iloc[i, j] / 100 * df_cand.iloc[i, 1]\n",
    "\n",
    "cand_feat = np.asarray(cand_feat)\n",
    "for i in range(3):\n",
    "    print(feature[i], \" \", candidate[cand_feat.argmax(axis=0)[i]])"
   ]
  },
  {
   "cell_type": "markdown",
   "metadata": {
    "nbgrader": {
     "grade": false,
     "locked": true,
     "solution": false
    }
   },
   "source": [
    "(g) Calculate the correlation between the difference in votes between Bush and Gore, and the votes obtained by Nader.\n",
    "(FYI: Pearson's correlation coefficient) https://en.wikipedia.org/wiki/Pearson_correlation_coefficient\n",
    "    Demo file: 'bush-gore-results-fl_demo.csv' "
   ]
  },
  {
   "cell_type": "code",
   "execution_count": 99,
   "metadata": {
    "collapsed": true
   },
   "outputs": [
    {
     "name": "stdout",
     "output_type": "stream",
     "text": [
      "-0.42364341310857706\n"
     ]
    }
   ],
   "source": [
    "#(g) Calculate the correlation between the difference in votes between Bush and Gore, and the votes obtained by Nader.\n",
    "#\n",
    "import pandas as pd\n",
    "import numpy as np\n",
    "#default\n",
    "filename = 'bush-gore-results-fl_demo.csv'\n",
    "df = pd.read_csv(filename)\n",
    "data = np.zeros(shape=(df.shape[0],2))\n",
    "df_corr = pd.DataFrame(data, columns = ['diff', 'nade'])\n",
    "df_corr['diff'] = df.loc[:, 'bush']-df.loc[:, 'gore']\n",
    "df_corr['nade'] = df.loc[:, 'nade']\n",
    "\n",
    "print(df_corr.corr().iloc[0,1])"
   ]
  },
  {
   "cell_type": "markdown",
   "metadata": {
    "nbgrader": {
     "grade": false,
     "locked": true,
     "solution": false
    },
    "pycharm": {
     "name": "#%% md\n"
    }
   },
   "source": [
    "(h) Find the distance between the county that Bush won by the largest margin and the county that Gore won by the largest margin. (Just use basic Euclidean distance between the latitude (lat) and longitude (lon) values for the counties, no need to compute spherical distance.) (FYI: Eucliden distane is decribed in https://en.wikipedia.org/wiki/Euclidean_distance#:~:text=In%20mathematics%2C%20the%20Euclidean%20distance,metric%20as%20the%20Pythagorean%20metric.)\n",
    "    Demo file: 'bush-gore-results-fl_demo.csv' "
   ]
  },
  {
   "cell_type": "code",
   "execution_count": 100,
   "metadata": {
    "collapsed": true
   },
   "outputs": [
    {
     "name": "stdout",
     "output_type": "stream",
     "text": [
      "4.341658669218476\n"
     ]
    }
   ],
   "source": [
    "#(h) Find the distance between the county that Bush won by the largest margin and the county that Gore won by the largest margin. (Just use basic Euclidean distance between the latitude (lat) and longitude (lon) values for the counties, no need to compute spherical distance.) (FYI: Eucliden distane is decribed in https://en.wikipedia.org/wiki/Euclidean_distance#:~:text=In%20mathematics%2C%20the%20Euclidean%20distance,metric%20as%20the%20Pythagorean%20metric.)\n",
    "\n",
    "import pandas as pd\n",
    "import numpy as np\n",
    "#default\n",
    "filename = 'bush-gore-results-fl_demo.csv'\n",
    "df = pd.read_csv(filename)\n",
    "df_resize = df.loc[:, ['bush', 'gore', 'brow', 'nade', 'harr', 'hage', 'buch', 'mcre', 'phil', 'moor']]\n",
    "df_resize['bush-2']=df_resize.loc[:, 'bush']-df_resize.apply(lambda row : row.nlargest(2).values[-1], axis=1)\n",
    "df_resize['gore-2']=df_resize.loc[:, 'gore']-df_resize.apply(lambda row : row.nlargest(2).values[-1], axis=1)\n",
    "\n",
    "bushidx = df_resize['bush-2'].idxmax()\n",
    "goreidx = df_resize['gore-2'].idxmax()\n",
    "\n",
    "latdiff = (np.square(df.loc[bushidx, 'lat']-df.loc[goreidx,'lat']))\n",
    "londiff = (np.square(df.loc[bushidx, 'lon']-df.loc[goreidx,'lon']))\n",
    "print(np.sqrt(latdiff+londiff))\n"
   ]
  }
 ],
 "metadata": {
  "kernelspec": {
   "name": "python3",
   "language": "python",
   "display_name": "Python 3"
  },
  "language_info": {
   "codemirror_mode": {
    "name": "ipython",
    "version": 3
   },
   "file_extension": ".py",
   "mimetype": "text/x-python",
   "name": "python",
   "nbconvert_exporter": "python",
   "pygments_lexer": "ipython3",
   "version": "3.7.4"
  }
 },
 "nbformat": 4,
 "nbformat_minor": 2
}